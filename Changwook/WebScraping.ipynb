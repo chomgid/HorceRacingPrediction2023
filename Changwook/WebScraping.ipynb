{
 "cells": [
  {
   "cell_type": "code",
   "execution_count": 18,
   "metadata": {},
   "outputs": [],
   "source": [
    "import pandas as pd\n",
    "import numpy as np\n",
    "import requests\n",
    "from bs4 import BeautifulSoup\n",
    "import time\n",
    "import openpyxl\n",
    "from konlpy.tag import Okt\n",
    "from selenium import webdriver\n",
    "from selenium.webdriver.common.by import By\n",
    "from selenium.webdriver.chrome.service import Service\n",
    "from webdriver_manager.chrome import ChromeDriverManager\n",
    "#dr=webdriver.Chrome()"
   ]
  },
  {
   "cell_type": "code",
   "execution_count": 17,
   "metadata": {},
   "outputs": [
    {
     "name": "stdout",
     "output_type": "stream",
     "text": [
      "Collecting webdriver_manager\n",
      "  Downloading webdriver_manager-4.0.1-py2.py3-none-any.whl (27 kB)\n",
      "Collecting python-dotenv\n",
      "  Downloading python_dotenv-1.0.0-py3-none-any.whl (19 kB)\n",
      "Requirement already satisfied: requests in c:\\users\\wjswp\\appdata\\local\\programs\\python\\python310\\lib\\site-packages (from webdriver_manager) (2.28.1)\n",
      "Requirement already satisfied: packaging in c:\\users\\wjswp\\appdata\\local\\programs\\python\\python310\\lib\\site-packages (from webdriver_manager) (21.3)\n",
      "Requirement already satisfied: pyparsing!=3.0.5,>=2.0.2 in c:\\users\\wjswp\\appdata\\local\\programs\\python\\python310\\lib\\site-packages (from packaging->webdriver_manager) (3.0.9)\n",
      "Requirement already satisfied: charset-normalizer<3,>=2 in c:\\users\\wjswp\\appdata\\local\\programs\\python\\python310\\lib\\site-packages (from requests->webdriver_manager) (2.1.1)\n",
      "Requirement already satisfied: certifi>=2017.4.17 in c:\\users\\wjswp\\appdata\\local\\programs\\python\\python310\\lib\\site-packages (from requests->webdriver_manager) (2022.12.7)\n",
      "Requirement already satisfied: urllib3<1.27,>=1.21.1 in c:\\users\\wjswp\\appdata\\local\\programs\\python\\python310\\lib\\site-packages (from requests->webdriver_manager) (1.26.13)\n",
      "Requirement already satisfied: idna<4,>=2.5 in c:\\users\\wjswp\\appdata\\local\\programs\\python\\python310\\lib\\site-packages (from requests->webdriver_manager) (3.4)\n",
      "Installing collected packages: python-dotenv, webdriver_manager\n",
      "Successfully installed python-dotenv-1.0.0 webdriver_manager-4.0.1\n",
      "Note: you may need to restart the kernel to use updated packages.\n"
     ]
    },
    {
     "name": "stderr",
     "output_type": "stream",
     "text": [
      "WARNING: You are using pip version 22.0.4; however, version 23.2.1 is available.\n",
      "You should consider upgrading via the 'c:\\Users\\wjswp\\AppData\\Local\\Programs\\Python\\Python310\\python.exe -m pip install --upgrade pip' command.\n"
     ]
    }
   ],
   "source": [
    "pip install webdriver_manager"
   ]
  },
  {
   "cell_type": "code",
   "execution_count": 3,
   "metadata": {},
   "outputs": [
    {
     "data": {
      "text/html": [
       "<div>\n",
       "<style scoped>\n",
       "    .dataframe tbody tr th:only-of-type {\n",
       "        vertical-align: middle;\n",
       "    }\n",
       "\n",
       "    .dataframe tbody tr th {\n",
       "        vertical-align: top;\n",
       "    }\n",
       "\n",
       "    .dataframe thead th {\n",
       "        text-align: right;\n",
       "    }\n",
       "</style>\n",
       "<table border=\"1\" class=\"dataframe\">\n",
       "  <thead>\n",
       "    <tr style=\"text-align: right;\">\n",
       "      <th></th>\n",
       "      <th>Unnamed: 0</th>\n",
       "      <th>0</th>\n",
       "    </tr>\n",
       "  </thead>\n",
       "  <tbody>\n",
       "    <tr>\n",
       "      <th>1593</th>\n",
       "      <td>1593</td>\n",
       "      <td>가왕신화</td>\n",
       "    </tr>\n",
       "  </tbody>\n",
       "</table>\n",
       "</div>"
      ],
      "text/plain": [
       "      Unnamed: 0     0\n",
       "1593        1593  가왕신화"
      ]
     },
     "execution_count": 3,
     "metadata": {},
     "output_type": "execute_result"
    }
   ],
   "source": [
    "horse_list=pd.read_csv(\"../Data/horse_list.csv\")\n",
    "horse_list[horse_list.iloc[:,1]==\"가왕신화\"]"
   ]
  },
  {
   "cell_type": "code",
   "execution_count": 4,
   "metadata": {},
   "outputs": [
    {
     "data": {
      "text/plain": [
       "2003"
      ]
     },
     "execution_count": 4,
     "metadata": {},
     "output_type": "execute_result"
    }
   ],
   "source": [
    "len(horse_list)"
   ]
  },
  {
   "cell_type": "code",
   "execution_count": 19,
   "metadata": {},
   "outputs": [
    {
     "name": "stderr",
     "output_type": "stream",
     "text": [
      "C:\\Users\\wjswp\\AppData\\Local\\Temp\\ipykernel_21732\\4047573084.py:1: DeprecationWarning: executable_path has been deprecated, please pass in a Service object\n",
      "  driver = webdriver.Chrome('/Users/ichang-ug/.wdm/drivers/chromedriver/mac64/118.0.5993.70/chromedriver-mac-arm64/chromedriver')\n"
     ]
    },
    {
     "ename": "WebDriverException",
     "evalue": "Message: 'chromedriver' executable needs to be in PATH. Please see https://chromedriver.chromium.org/home\n",
     "output_type": "error",
     "traceback": [
      "\u001b[1;31m---------------------------------------------------------------------------\u001b[0m",
      "\u001b[1;31mSeleniumManagerException\u001b[0m                  Traceback (most recent call last)",
      "File \u001b[1;32mc:\\Users\\wjswp\\AppData\\Local\\Programs\\Python\\Python310\\lib\\site-packages\\selenium\\webdriver\\common\\service.py:97\u001b[0m, in \u001b[0;36mService.start\u001b[1;34m(self)\u001b[0m\n\u001b[0;32m     96\u001b[0m \u001b[39mtry\u001b[39;00m:\n\u001b[1;32m---> 97\u001b[0m     path \u001b[39m=\u001b[39m SeleniumManager()\u001b[39m.\u001b[39;49mdriver_location(browser)\n\u001b[0;32m     98\u001b[0m \u001b[39mexcept\u001b[39;00m WebDriverException \u001b[39mas\u001b[39;00m new_err:\n",
      "File \u001b[1;32mc:\\Users\\wjswp\\AppData\\Local\\Programs\\Python\\Python310\\lib\\site-packages\\selenium\\webdriver\\common\\selenium_manager.py:74\u001b[0m, in \u001b[0;36mSeleniumManager.driver_location\u001b[1;34m(self, browser)\u001b[0m\n\u001b[0;32m     73\u001b[0m binary, flag, browser \u001b[39m=\u001b[39m \u001b[39mstr\u001b[39m(\u001b[39mself\u001b[39m\u001b[39m.\u001b[39mget_binary()), \u001b[39m\"\u001b[39m\u001b[39m--browser\u001b[39m\u001b[39m\"\u001b[39m, browser\n\u001b[1;32m---> 74\u001b[0m result \u001b[39m=\u001b[39m \u001b[39mself\u001b[39;49m\u001b[39m.\u001b[39;49mrun((binary, flag, browser))\n\u001b[0;32m     75\u001b[0m executable \u001b[39m=\u001b[39m result\u001b[39m.\u001b[39msplit(\u001b[39m\"\u001b[39m\u001b[39m\\t\u001b[39;00m\u001b[39m\"\u001b[39m)[\u001b[39m-\u001b[39m\u001b[39m1\u001b[39m]\u001b[39m.\u001b[39mstrip()\n",
      "File \u001b[1;32mc:\\Users\\wjswp\\AppData\\Local\\Programs\\Python\\Python310\\lib\\site-packages\\selenium\\webdriver\\common\\selenium_manager.py:93\u001b[0m, in \u001b[0;36mSeleniumManager.run\u001b[1;34m(args)\u001b[0m\n\u001b[0;32m     92\u001b[0m \u001b[39mif\u001b[39;00m completed_proc\u001b[39m.\u001b[39mreturncode:\n\u001b[1;32m---> 93\u001b[0m     \u001b[39mraise\u001b[39;00m SeleniumManagerException(\u001b[39mf\u001b[39m\u001b[39m\"\u001b[39m\u001b[39mSelenium manager failed for: \u001b[39m\u001b[39m{\u001b[39;00mcommand\u001b[39m}\u001b[39;00m\u001b[39m. \u001b[39m\u001b[39m{\u001b[39;00mstderr\u001b[39m}\u001b[39;00m\u001b[39m\"\u001b[39m)\n\u001b[0;32m     94\u001b[0m \u001b[39melse\u001b[39;00m:\n\u001b[0;32m     95\u001b[0m     \u001b[39m# selenium manager exited 0 successfully, parse the executable path from stdout.\u001b[39;00m\n",
      "\u001b[1;31mSeleniumManagerException\u001b[0m: Message: Selenium manager failed for: c:\\Users\\wjswp\\AppData\\Local\\Programs\\Python\\Python310\\lib\\site-packages\\selenium\\webdriver\\common\\windows\\selenium-manager.exe --browser chrome. \n",
      "\nDuring handling of the above exception, another exception occurred:\n",
      "\u001b[1;31mWebDriverException\u001b[0m                        Traceback (most recent call last)",
      "Cell \u001b[1;32mIn[19], line 1\u001b[0m\n\u001b[1;32m----> 1\u001b[0m driver \u001b[39m=\u001b[39m webdriver\u001b[39m.\u001b[39;49mChrome(\u001b[39m'\u001b[39;49m\u001b[39m/Users/ichang-ug/.wdm/drivers/chromedriver/mac64/118.0.5993.70/chromedriver-mac-arm64/chromedriver\u001b[39;49m\u001b[39m'\u001b[39;49m)\n\u001b[0;32m      2\u001b[0m driver\u001b[39m.\u001b[39mget(\u001b[39m'\u001b[39m\u001b[39mhttps://race.kra.co.kr/racehorse/ProfileHorsenameKinds.do?Act=08&Sub=1&meet=2\u001b[39m\u001b[39m'\u001b[39m)\n\u001b[0;32m      3\u001b[0m rating\u001b[39m=\u001b[39m[]\n",
      "File \u001b[1;32mc:\\Users\\wjswp\\AppData\\Local\\Programs\\Python\\Python310\\lib\\site-packages\\selenium\\webdriver\\chrome\\webdriver.py:81\u001b[0m, in \u001b[0;36mWebDriver.__init__\u001b[1;34m(self, executable_path, port, options, service_args, desired_capabilities, service_log_path, chrome_options, service, keep_alive)\u001b[0m\n\u001b[0;32m     78\u001b[0m \u001b[39mif\u001b[39;00m \u001b[39mnot\u001b[39;00m service:\n\u001b[0;32m     79\u001b[0m     service \u001b[39m=\u001b[39m Service(executable_path, port, service_args, service_log_path)\n\u001b[1;32m---> 81\u001b[0m \u001b[39msuper\u001b[39;49m()\u001b[39m.\u001b[39;49m\u001b[39m__init__\u001b[39;49m(\n\u001b[0;32m     82\u001b[0m     DesiredCapabilities\u001b[39m.\u001b[39;49mCHROME[\u001b[39m\"\u001b[39;49m\u001b[39mbrowserName\u001b[39;49m\u001b[39m\"\u001b[39;49m],\n\u001b[0;32m     83\u001b[0m     \u001b[39m\"\u001b[39;49m\u001b[39mgoog\u001b[39;49m\u001b[39m\"\u001b[39;49m,\n\u001b[0;32m     84\u001b[0m     port,\n\u001b[0;32m     85\u001b[0m     options,\n\u001b[0;32m     86\u001b[0m     service_args,\n\u001b[0;32m     87\u001b[0m     desired_capabilities,\n\u001b[0;32m     88\u001b[0m     service_log_path,\n\u001b[0;32m     89\u001b[0m     service,\n\u001b[0;32m     90\u001b[0m     keep_alive,\n\u001b[0;32m     91\u001b[0m )\n",
      "File \u001b[1;32mc:\\Users\\wjswp\\AppData\\Local\\Programs\\Python\\Python310\\lib\\site-packages\\selenium\\webdriver\\chromium\\webdriver.py:103\u001b[0m, in \u001b[0;36mChromiumDriver.__init__\u001b[1;34m(self, browser_name, vendor_prefix, port, options, service_args, desired_capabilities, service_log_path, service, keep_alive)\u001b[0m\n\u001b[0;32m    100\u001b[0m     \u001b[39mraise\u001b[39;00m \u001b[39mAttributeError\u001b[39;00m(\u001b[39m\"\u001b[39m\u001b[39mservice cannot be None\u001b[39m\u001b[39m\"\u001b[39m)\n\u001b[0;32m    102\u001b[0m \u001b[39mself\u001b[39m\u001b[39m.\u001b[39mservice \u001b[39m=\u001b[39m service\n\u001b[1;32m--> 103\u001b[0m \u001b[39mself\u001b[39;49m\u001b[39m.\u001b[39;49mservice\u001b[39m.\u001b[39;49mstart()\n\u001b[0;32m    105\u001b[0m \u001b[39mtry\u001b[39;00m:\n\u001b[0;32m    106\u001b[0m     \u001b[39msuper\u001b[39m()\u001b[39m.\u001b[39m\u001b[39m__init__\u001b[39m(\n\u001b[0;32m    107\u001b[0m         command_executor\u001b[39m=\u001b[39mChromiumRemoteConnection(\n\u001b[0;32m    108\u001b[0m             remote_server_addr\u001b[39m=\u001b[39m\u001b[39mself\u001b[39m\u001b[39m.\u001b[39mservice\u001b[39m.\u001b[39mservice_url,\n\u001b[1;32m   (...)\u001b[0m\n\u001b[0;32m    114\u001b[0m         options\u001b[39m=\u001b[39moptions,\n\u001b[0;32m    115\u001b[0m     )\n",
      "File \u001b[1;32mc:\\Users\\wjswp\\AppData\\Local\\Programs\\Python\\Python310\\lib\\site-packages\\selenium\\webdriver\\common\\service.py:100\u001b[0m, in \u001b[0;36mService.start\u001b[1;34m(self)\u001b[0m\n\u001b[0;32m     98\u001b[0m         \u001b[39mexcept\u001b[39;00m WebDriverException \u001b[39mas\u001b[39;00m new_err:\n\u001b[0;32m     99\u001b[0m             logger\u001b[39m.\u001b[39mdebug(\u001b[39m\"\u001b[39m\u001b[39mUnable to obtain driver using Selenium Manager: \u001b[39m\u001b[39m\"\u001b[39m \u001b[39m+\u001b[39m new_err\u001b[39m.\u001b[39mmsg)\n\u001b[1;32m--> 100\u001b[0m             \u001b[39mraise\u001b[39;00m err\n\u001b[0;32m    102\u001b[0m         \u001b[39mself\u001b[39m\u001b[39m.\u001b[39m_start_process(path)\n\u001b[0;32m    104\u001b[0m count \u001b[39m=\u001b[39m \u001b[39m0\u001b[39m\n",
      "File \u001b[1;32mc:\\Users\\wjswp\\AppData\\Local\\Programs\\Python\\Python310\\lib\\site-packages\\selenium\\webdriver\\common\\service.py:90\u001b[0m, in \u001b[0;36mService.start\u001b[1;34m(self)\u001b[0m\n\u001b[0;32m     82\u001b[0m \u001b[39m\u001b[39m\u001b[39m\"\"\"\u001b[39;00m\n\u001b[0;32m     83\u001b[0m \u001b[39mStarts the Service.\u001b[39;00m\n\u001b[0;32m     84\u001b[0m \n\u001b[1;32m   (...)\u001b[0m\n\u001b[0;32m     87\u001b[0m \u001b[39m   or when it can't connect to the service\u001b[39;00m\n\u001b[0;32m     88\u001b[0m \u001b[39m\"\"\"\u001b[39;00m\n\u001b[0;32m     89\u001b[0m \u001b[39mtry\u001b[39;00m:\n\u001b[1;32m---> 90\u001b[0m     \u001b[39mself\u001b[39;49m\u001b[39m.\u001b[39;49m_start_process(\u001b[39mself\u001b[39;49m\u001b[39m.\u001b[39;49mpath)\n\u001b[0;32m     91\u001b[0m \u001b[39mexcept\u001b[39;00m WebDriverException \u001b[39mas\u001b[39;00m err:\n\u001b[0;32m     92\u001b[0m     \u001b[39mif\u001b[39;00m \u001b[39m\"\u001b[39m\u001b[39mexecutable needs to be in PATH\u001b[39m\u001b[39m\"\u001b[39m \u001b[39min\u001b[39;00m err\u001b[39m.\u001b[39mmsg:\n",
      "File \u001b[1;32mc:\\Users\\wjswp\\AppData\\Local\\Programs\\Python\\Python310\\lib\\site-packages\\selenium\\webdriver\\common\\service.py:213\u001b[0m, in \u001b[0;36mService._start_process\u001b[1;34m(self, path)\u001b[0m\n\u001b[0;32m    211\u001b[0m \u001b[39mexcept\u001b[39;00m \u001b[39mOSError\u001b[39;00m \u001b[39mas\u001b[39;00m err:\n\u001b[0;32m    212\u001b[0m     \u001b[39mif\u001b[39;00m err\u001b[39m.\u001b[39merrno \u001b[39m==\u001b[39m errno\u001b[39m.\u001b[39mENOENT:\n\u001b[1;32m--> 213\u001b[0m         \u001b[39mraise\u001b[39;00m WebDriverException(\n\u001b[0;32m    214\u001b[0m             \u001b[39mf\u001b[39m\u001b[39m\"\u001b[39m\u001b[39m'\u001b[39m\u001b[39m{\u001b[39;00mos\u001b[39m.\u001b[39mpath\u001b[39m.\u001b[39mbasename(\u001b[39mself\u001b[39m\u001b[39m.\u001b[39mpath)\u001b[39m}\u001b[39;00m\u001b[39m'\u001b[39m\u001b[39m executable needs to be in PATH. \u001b[39m\u001b[39m{\u001b[39;00m\u001b[39mself\u001b[39m\u001b[39m.\u001b[39mstart_error_message\u001b[39m}\u001b[39;00m\u001b[39m\"\u001b[39m\n\u001b[0;32m    215\u001b[0m         )\n\u001b[0;32m    216\u001b[0m     \u001b[39melif\u001b[39;00m err\u001b[39m.\u001b[39merrno \u001b[39m==\u001b[39m errno\u001b[39m.\u001b[39mEACCES:\n\u001b[0;32m    217\u001b[0m         \u001b[39mraise\u001b[39;00m WebDriverException(\n\u001b[0;32m    218\u001b[0m             \u001b[39mf\u001b[39m\u001b[39m\"\u001b[39m\u001b[39m'\u001b[39m\u001b[39m{\u001b[39;00mos\u001b[39m.\u001b[39mpath\u001b[39m.\u001b[39mbasename(\u001b[39mself\u001b[39m\u001b[39m.\u001b[39mpath)\u001b[39m}\u001b[39;00m\u001b[39m'\u001b[39m\u001b[39m executable may have wrong permissions. \u001b[39m\u001b[39m{\u001b[39;00m\u001b[39mself\u001b[39m\u001b[39m.\u001b[39mstart_error_message\u001b[39m}\u001b[39;00m\u001b[39m\"\u001b[39m\n\u001b[0;32m    219\u001b[0m         )\n",
      "\u001b[1;31mWebDriverException\u001b[0m: Message: 'chromedriver' executable needs to be in PATH. Please see https://chromedriver.chromium.org/home\n"
     ]
    }
   ],
   "source": [
    "driver = webdriver.Chrome('/Users/ichang-ug/.wdm/drivers/chromedriver/mac64/118.0.5993.70/chromedriver-mac-arm64/chromedriver')\n",
    "driver.get('https://race.kra.co.kr/racehorse/ProfileHorsenameKinds.do?Act=08&Sub=1&meet=2')\n",
    "rating=[]\n",
    "grade=[]\n",
    "ranks=[]\n",
    "eight=[]\n",
    "nine = []\n",
    "ten = []\n",
    "eleven = []\n",
    "\n",
    "for horse in horse_list:\n",
    "    driver.get('https://race.kra.co.kr/racehorse/ProfileHorsenameKinds.do?Act=08&Sub=1&meet=2')\n",
    "    driver.find_element(By.ID,'searchHorseName').send_keys(horse)\n",
    "    driver.find_element(By.CLASS_NAME,'btnType4.case').click()\n",
    "    driver.find_element(By.XPATH,'//*[@id=\"contents\"]/div[2]/table/tbody/tr/td[2]/a').click()\n",
    "\n",
    "    # 레이팅 변화 내역 저장\n",
    "    td = driver.find_element(By.XPATH, '//*[@id=\"contents\"]/div[2]/table/tbody')\n",
    "    for i in td:\n",
    "        print(i)\n",
    "      \n",
    "\n",
    "driver.quit()\n",
    "\n",
    "\n",
    "\n",
    "\n"
   ]
  },
  {
   "cell_type": "code",
   "execution_count": null,
   "metadata": {},
   "outputs": [],
   "source": [
    "driver = webdriver.Chrome(service= Service(ChromeDriverManager().install()))\n",
    "driver.get('https://race.kra.co.kr/racehorse/ProfileHorsenameKinds.do?Act=08&Sub=1&meet=2')\n",
    "driver.find_element(By.ID,'searchHorseName').send_keys(horse)\n",
    "driver.find_element(By.CLASS_NAME,'btnType4.case').click()\n",
    "driver.find_element(By.XPATH,'//*[@id=\"contents\"]/div[2]/table/tbody/tr/td[2]/a').click()\n",
    "\n",
    "# 레이팅 변화 내역 저장\n",
    "driver.find_elements(By.XPATH, '//*[@id=\"contents\"]/div[2]/table/tbody')\n",
    "p"
   ]
  },
  {
   "cell_type": "code",
   "execution_count": 5,
   "metadata": {},
   "outputs": [
    {
     "ename": "WebDriverException",
     "evalue": "Message: Can not connect to the Service /Users/ichang-ug/.wdm/drivers/chromedriver/mac64/118.0.5993.70/chromedriver-mac-arm64/chromedriver\n",
     "output_type": "error",
     "traceback": [
      "\u001b[0;31m---------------------------------------------------------------------------\u001b[0m",
      "\u001b[0;31mWebDriverException\u001b[0m                        Traceback (most recent call last)",
      "\u001b[1;32m/Users/ichang-ug/Documents/GitHub/HorceRacingPrediction2023/Changwook/WebScraping.ipynb 셀 6\u001b[0m line \u001b[0;36m1\n\u001b[0;32m----> <a href='vscode-notebook-cell:/Users/ichang-ug/Documents/GitHub/HorceRacingPrediction2023/Changwook/WebScraping.ipynb#W6sZmlsZQ%3D%3D?line=0'>1</a>\u001b[0m webdriver\u001b[39m.\u001b[39;49mChrome(service\u001b[39m=\u001b[39;49m Service(ChromeDriverManager()\u001b[39m.\u001b[39;49minstall()))\n",
      "File \u001b[0;32m/opt/homebrew/lib/python3.10/site-packages/selenium/webdriver/chrome/webdriver.py:45\u001b[0m, in \u001b[0;36mWebDriver.__init__\u001b[0;34m(self, options, service, keep_alive)\u001b[0m\n\u001b[1;32m     42\u001b[0m service \u001b[39m=\u001b[39m service \u001b[39mif\u001b[39;00m service \u001b[39melse\u001b[39;00m Service()\n\u001b[1;32m     43\u001b[0m options \u001b[39m=\u001b[39m options \u001b[39mif\u001b[39;00m options \u001b[39melse\u001b[39;00m Options()\n\u001b[0;32m---> 45\u001b[0m \u001b[39msuper\u001b[39;49m()\u001b[39m.\u001b[39;49m\u001b[39m__init__\u001b[39;49m(\n\u001b[1;32m     46\u001b[0m     DesiredCapabilities\u001b[39m.\u001b[39;49mCHROME[\u001b[39m\"\u001b[39;49m\u001b[39mbrowserName\u001b[39;49m\u001b[39m\"\u001b[39;49m],\n\u001b[1;32m     47\u001b[0m     \u001b[39m\"\u001b[39;49m\u001b[39mgoog\u001b[39;49m\u001b[39m\"\u001b[39;49m,\n\u001b[1;32m     48\u001b[0m     options,\n\u001b[1;32m     49\u001b[0m     service,\n\u001b[1;32m     50\u001b[0m     keep_alive,\n\u001b[1;32m     51\u001b[0m )\n",
      "File \u001b[0;32m/opt/homebrew/lib/python3.10/site-packages/selenium/webdriver/chromium/webdriver.py:53\u001b[0m, in \u001b[0;36mChromiumDriver.__init__\u001b[0;34m(self, browser_name, vendor_prefix, options, service, keep_alive)\u001b[0m\n\u001b[1;32m     49\u001b[0m \u001b[39mself\u001b[39m\u001b[39m.\u001b[39mservice \u001b[39m=\u001b[39m service\n\u001b[1;32m     51\u001b[0m \u001b[39mself\u001b[39m\u001b[39m.\u001b[39mservice\u001b[39m.\u001b[39mpath \u001b[39m=\u001b[39m DriverFinder\u001b[39m.\u001b[39mget_path(\u001b[39mself\u001b[39m\u001b[39m.\u001b[39mservice, options)\n\u001b[0;32m---> 53\u001b[0m \u001b[39mself\u001b[39;49m\u001b[39m.\u001b[39;49mservice\u001b[39m.\u001b[39;49mstart()\n\u001b[1;32m     55\u001b[0m \u001b[39mtry\u001b[39;00m:\n\u001b[1;32m     56\u001b[0m     \u001b[39msuper\u001b[39m()\u001b[39m.\u001b[39m\u001b[39m__init__\u001b[39m(\n\u001b[1;32m     57\u001b[0m         command_executor\u001b[39m=\u001b[39mChromiumRemoteConnection(\n\u001b[1;32m     58\u001b[0m             remote_server_addr\u001b[39m=\u001b[39m\u001b[39mself\u001b[39m\u001b[39m.\u001b[39mservice\u001b[39m.\u001b[39mservice_url,\n\u001b[0;32m   (...)\u001b[0m\n\u001b[1;32m     64\u001b[0m         options\u001b[39m=\u001b[39moptions,\n\u001b[1;32m     65\u001b[0m     )\n",
      "File \u001b[0;32m/opt/homebrew/lib/python3.10/site-packages/selenium/webdriver/common/service.py:109\u001b[0m, in \u001b[0;36mService.start\u001b[0;34m(self)\u001b[0m\n\u001b[1;32m    107\u001b[0m sleep(\u001b[39m0.5\u001b[39m)\n\u001b[1;32m    108\u001b[0m \u001b[39mif\u001b[39;00m count \u001b[39m==\u001b[39m \u001b[39m60\u001b[39m:\n\u001b[0;32m--> 109\u001b[0m     \u001b[39mraise\u001b[39;00m WebDriverException(\u001b[39mf\u001b[39m\u001b[39m\"\u001b[39m\u001b[39mCan not connect to the Service \u001b[39m\u001b[39m{\u001b[39;00m\u001b[39mself\u001b[39m\u001b[39m.\u001b[39m_path\u001b[39m}\u001b[39;00m\u001b[39m\"\u001b[39m)\n",
      "\u001b[0;31mWebDriverException\u001b[0m: Message: Can not connect to the Service /Users/ichang-ug/.wdm/drivers/chromedriver/mac64/118.0.5993.70/chromedriver-mac-arm64/chromedriver\n"
     ]
    }
   ],
   "source": [
    "webdriver.Chrome(service= Service(ChromeDriverManager().install()))"
   ]
  },
  {
   "cell_type": "markdown",
   "metadata": {},
   "source": [
    "## Crawling 2"
   ]
  },
  {
   "cell_type": "code",
   "execution_count": 3,
   "metadata": {},
   "outputs": [
    {
     "ename": "NameError",
     "evalue": "name 'ChromeDriverManager' is not defined",
     "output_type": "error",
     "traceback": [
      "\u001b[1;31m---------------------------------------------------------------------------\u001b[0m",
      "\u001b[1;31mNameError\u001b[0m                                 Traceback (most recent call last)",
      "Cell \u001b[1;32mIn[3], line 1\u001b[0m\n\u001b[1;32m----> 1\u001b[0m driver \u001b[39m=\u001b[39m webdriver\u001b[39m.\u001b[39mChrome(service\u001b[39m=\u001b[39m Service(ChromeDriverManager()\u001b[39m.\u001b[39minstall()))\n\u001b[0;32m      2\u001b[0m driver\u001b[39m.\u001b[39mget(\u001b[39m'\u001b[39m\u001b[39mhttps://race.kra.co.kr/racehorse/ProfileHorsenameKinds.do?Act=08&Sub=1&meet=2\u001b[39m\u001b[39m'\u001b[39m)\n\u001b[0;32m      3\u001b[0m buy\u001b[39m=\u001b[39m[]\n",
      "\u001b[1;31mNameError\u001b[0m: name 'ChromeDriverManager' is not defined"
     ]
    }
   ],
   "source": [
    "driver = webdriver.Chrome(service= Service(ChromeDriverManager().install()))\n",
    "driver.get('https://race.kra.co.kr/racehorse/ProfileHorsenameKinds.do?Act=08&Sub=1&meet=2')\n",
    "buy=[]\n",
    "sicks=[]\n",
    "ranks=[]\n",
    "horse_items=[]\n",
    "dad_record = []\n",
    "dad_rate = []\n",
    "mom_record = []\n",
    "mom_rate=[]\n",
    "\n",
    "for horse in horse_list:\n",
    "    driver.get('https://race.kra.co.kr/racehorse/ProfileHorsenameKinds.do?Act=08&Sub=1&meet=2')\n",
    "    driver.find_element(By.ID,'searchHorseName').send_keys(horse)\n",
    "    driver.find_element(By.CLASS_NAME,'btnType4.case').click()\n",
    "    driver.find_element(By.XPATH,'//*[@id=\"contents\"]/div[2]/table/tbody/tr/td[2]/a').click()\n",
    "\n",
    "    #최초도입가 텍스트 추출\n",
    "    try:\n",
    "        buy.append(driver.find_element(By.XPATH,'//*[@id=\"contents\"]/div[1]/table/tbody/tr[12]/td[1]').text)\n",
    "    except:\n",
    "        buy.append(driver.find_element(By.XPATH,'//*[@id=\"contents\"]/div[2]/table/tbody/tr[12]/td[1]').text)\n",
    "\n",
    "\n",
    "    #진료사항 탭 들어간 이후 질병날짜(sick_date),질병사항(sick_name) 추출\n",
    "    driver.find_element(By.XPATH,'//*[@id=\"contents\"]/ul/li[5]/a').click()\n",
    "    buttons=driver.find_elements(By.XPATH,'//*[@id=\"contents\"]/p[2]/a')\n",
    "    sick = []\n",
    "    for i in range(len(buttons)):\n",
    "        driver.find_element(By.XPATH,f'//*[@id=\"contents\"]/p[2]/a[{i+1}]').click()\n",
    "        hospitals=driver.find_elements(By.XPATH,'//*[@id=\"contents\"]/div[2]/table/tbody/tr/td[2]')\n",
    "        for i in range(1,len(hospitals)+1):\n",
    "            sick_date=driver.find_element(By.XPATH,f'//*[@id=\"contents\"]/div[2]/table/tbody/tr[{i}]/td[2]').text\n",
    "            sick_name=driver.find_element(By.XPATH,f'//*[@id=\"contents\"]/div[2]/table/tbody/tr[{i}]/td[4]').text\n",
    "            sick.append(sick_name+' '+sick_date)\n",
    "    sicks.append(sick)\n",
    "\n",
    "    #등급변동 정보\n",
    "    driver.find_element(By.XPATH,'//*[@id=\"contents\"]/ul/li[7]/a').click()\n",
    "\n",
    "    rank_dates=driver.find_elements(By.XPATH,'//*[@id=\"contents\"]/div[2]/table/tbody/tr/td[3]')\n",
    "    rank = []\n",
    "    for i in range(1,len(rank_dates)+1):\n",
    "        rank_name=driver.find_element(By.XPATH,f'//*[@id=\"contents\"]/div[2]/table/tbody/tr[{i}]/td[3]').text\n",
    "        rank_date=driver.find_element(By.XPATH,f'//*[@id=\"contents\"]/div[2]/table/tbody/tr[{i}]/td[4]').text\n",
    "        rank.append(rank_name+' '+rank_date)\n",
    "    ranks.append(rank)\n",
    "\n",
    "    #승인장구 정보\n",
    "    driver.find_element(By.XPATH,'//*[@id=\"contents\"]/ul/li[12]/a').click()\n",
    "\n",
    "    items=driver.find_elements(By.XPATH,'//*[@id=\"contents\"]/div[2]/table/tbody/tr/td[3]')\n",
    "    item = []\n",
    "    for i in range(1,len(items)+1):\n",
    "        name=driver.find_element(By.XPATH,f'//*[@id=\"contents\"]/div[2]/table/tbody/tr[{i}]/td[1]').text\n",
    "        start_date=driver.find_element(By.XPATH,f'//*[@id=\"contents\"]/div[2]/table/tbody/tr[{i}]/td[2]').text\n",
    "        end_date=driver.find_element(By.XPATH,f'//*[@id=\"contents\"]/div[2]/table/tbody/tr[{i}]/td[3]').text\n",
    "        item.append(name+' '+start_date+'~'+end_date)\n",
    "    horse_items.append(item)\n",
    "\n",
    "\n",
    "    #부 정보\n",
    "    driver.back()\n",
    "    try:\n",
    "        driver.find_element(By.XPATH, '//*[@id=\"contents\"]/ul/li[11]/a').click()\n",
    "        driver.find_element(By.XPATH, '//*[@id=\"contents\"]/table[3]/tbody/tr/td[1]/a[2]').click()\n",
    "        dad_record.append(driver.find_element(By.XPATH, '//*[@id=\"contents\"]/div[1]/table/tbody/tr[5]/td[1]').text)\n",
    "        dad_rate.append(driver.find_element(By.XPATH, '//*[@id=\"contents\"]/div[1]/table/tbody/tr[5]/td[2]').text)\n",
    "    except:\n",
    "        dad_record.append(\"None\")\n",
    "        dad_rate.append(\"None\")\n",
    "\n",
    "    #모 정보\n",
    "    driver.back()\n",
    "    driver.back()\n",
    "    try:\n",
    "        driver.find_element(By.XPATH, '//*[@id=\"contents\"]/ul/li[11]/a').click()\n",
    "        driver.find_element(By.XPATH, '//*[@id=\"contents\"]/table[3]/tbody/tr/td[2]/a[2]').click()\n",
    "        mom_record.append(driver.find_element(By.XPATH, '//*[@id=\"contents\"]/div[1]/table/tbody/tr[5]/td[1]').text)\n",
    "        mom_rate.append(driver.find_element(By.XPATH, '//*[@id=\"contents\"]/div[1]/table/tbody/tr[5]/td[2]').text)\n",
    "    except:\n",
    "        mom_record.append(\"None\")\n",
    "        mom_rate.append(\"None\")\n",
    "\n",
    "\n",
    "driver.quit()\n",
    "\n",
    "\n",
    "\n",
    "\n"
   ]
  },
  {
   "cell_type": "code",
   "execution_count": null,
   "metadata": {},
   "outputs": [
    {
     "data": {
      "text/html": [
       "<div>\n",
       "<style scoped>\n",
       "    .dataframe tbody tr th:only-of-type {\n",
       "        vertical-align: middle;\n",
       "    }\n",
       "\n",
       "    .dataframe tbody tr th {\n",
       "        vertical-align: top;\n",
       "    }\n",
       "\n",
       "    .dataframe thead th {\n",
       "        text-align: right;\n",
       "    }\n",
       "</style>\n",
       "<table border=\"1\" class=\"dataframe\">\n",
       "  <thead>\n",
       "    <tr style=\"text-align: right;\">\n",
       "      <th></th>\n",
       "      <th>ini_price</th>\n",
       "      <th>sicks</th>\n",
       "      <th>dad_record</th>\n",
       "      <th>dad_rate</th>\n",
       "      <th>mom_record</th>\n",
       "      <th>mom_rate</th>\n",
       "    </tr>\n",
       "  </thead>\n",
       "  <tbody>\n",
       "    <tr>\n",
       "      <th>0</th>\n",
       "      <td>[]</td>\n",
       "      <td>[좌전지파행 2020/08/15, 좌전지파행 2020/08/14, 운동기질환 기타 ...</td>\n",
       "      <td>[42전 (6/8/5/7/5)]</td>\n",
       "      <td>[단승 : 14.3%      복승 : 33.3%      연승 : 45.2%]</td>\n",
       "      <td>[0전 (0/0/0/0/0)]</td>\n",
       "      <td>[단승 : 0.0%      복승 : 0.0%      연승 : 0.0%]</td>\n",
       "    </tr>\n",
       "    <tr>\n",
       "      <th>1</th>\n",
       "      <td>[]</td>\n",
       "      <td>[정치 2017/08/12, 낭치 2017/08/12, 일본뇌염예방접종 2017/0...</td>\n",
       "      <td>[2전 (2/0/0/0/0)]</td>\n",
       "      <td>[단승 : 100.0%      복승 : 100.0%      연승 : 100.0%]</td>\n",
       "      <td>[None]</td>\n",
       "      <td>[None]</td>\n",
       "    </tr>\n",
       "    <tr>\n",
       "      <th>2</th>\n",
       "      <td>[]</td>\n",
       "      <td>[정치 2019/04/03, 식이성 식욕부진 2016/09/04, 정치 2016/0...</td>\n",
       "      <td>[42전 (6/8/5/7/5)]</td>\n",
       "      <td>[단승 : 14.3%      복승 : 33.3%      연승 : 45.2%]</td>\n",
       "      <td>[18전 (5/4/2/2/1)]</td>\n",
       "      <td>[단승 : 27.8%      복승 : 50.0%      연승 : 61.1%]</td>\n",
       "    </tr>\n",
       "    <tr>\n",
       "      <th>3</th>\n",
       "      <td>[]</td>\n",
       "      <td>[운동기인성 피로회복 2019/12/20, 좌각막염 2019/12/14, 좌각막염 ...</td>\n",
       "      <td>[None]</td>\n",
       "      <td>[None]</td>\n",
       "      <td>[None]</td>\n",
       "      <td>[None]</td>\n",
       "    </tr>\n",
       "    <tr>\n",
       "      <th>4</th>\n",
       "      <td>[10,000천원(개별)]</td>\n",
       "      <td>[운동기질환 기타 2019/05/26, 운동기질환 기타 2019/05/25, 운동기...</td>\n",
       "      <td>[None]</td>\n",
       "      <td>[None]</td>\n",
       "      <td>[33전 (1/1/1/5/2)]</td>\n",
       "      <td>[단승 : 3.0%      복승 : 6.1%      연승 : 9.1%]</td>\n",
       "    </tr>\n",
       "    <tr>\n",
       "      <th>...</th>\n",
       "      <td>...</td>\n",
       "      <td>...</td>\n",
       "      <td>...</td>\n",
       "      <td>...</td>\n",
       "      <td>...</td>\n",
       "      <td>...</td>\n",
       "    </tr>\n",
       "    <tr>\n",
       "      <th>1588</th>\n",
       "      <td>[2,500천원(개별)]</td>\n",
       "      <td>[산통 2023/05/14, 우전지파행 2022/08/18, 우전지파행 2022/0...</td>\n",
       "      <td>[None]</td>\n",
       "      <td>[None]</td>\n",
       "      <td>[7전 (4/1/1/1/0)]</td>\n",
       "      <td>[단승 : 57.1%      복승 : 71.4%      연승 : 85.7%]</td>\n",
       "    </tr>\n",
       "    <tr>\n",
       "      <th>1589</th>\n",
       "      <td>[]</td>\n",
       "      <td>[]</td>\n",
       "      <td>[None]</td>\n",
       "      <td>[None]</td>\n",
       "      <td>[None]</td>\n",
       "      <td>[None]</td>\n",
       "    </tr>\n",
       "    <tr>\n",
       "      <th>1590</th>\n",
       "      <td>[15,000천원(개별)]</td>\n",
       "      <td>[정치 2022/09/18, 우전지파행 2022/09/07, 우전지파행 2022/0...</td>\n",
       "      <td>[42전 (6/8/5/7/5)]</td>\n",
       "      <td>[단승 : 14.3%      복승 : 33.3%      연승 : 45.2%]</td>\n",
       "      <td>[34전 (8/5/6/2/1)]</td>\n",
       "      <td>[단승 : 23.5%      복승 : 38.2%      연승 : 55.9%]</td>\n",
       "    </tr>\n",
       "    <tr>\n",
       "      <th>1591</th>\n",
       "      <td>[6,000천원(개별)]</td>\n",
       "      <td>[감기 2023/06/02, 감기 2023/06/01, 감기 2022/12/09, ...</td>\n",
       "      <td>[30전 (4/0/8/4/2)]</td>\n",
       "      <td>[단승 : 13.3%      복승 : 13.3%      연승 : 40.0%]</td>\n",
       "      <td>[20전 (3/0/5/4/3)]</td>\n",
       "      <td>[단승 : 15.0%      복승 : 15.0%      연승 : 40.0%]</td>\n",
       "    </tr>\n",
       "    <tr>\n",
       "      <th>1592</th>\n",
       "      <td>[100,000천원(개별)]</td>\n",
       "      <td>[좌전지파행 2023/08/13, 좌전지파행 2023/08/12, 식이성 식욕부진 ...</td>\n",
       "      <td>[None]</td>\n",
       "      <td>[None]</td>\n",
       "      <td>[24전 (5/5/3/2/1)]</td>\n",
       "      <td>[단승 : 20.8%      복승 : 41.7%      연승 : 54.2%]</td>\n",
       "    </tr>\n",
       "  </tbody>\n",
       "</table>\n",
       "<p>1593 rows × 6 columns</p>\n",
       "</div>"
      ],
      "text/plain": [
       "            ini_price                                              sicks  \\\n",
       "0                  []  [좌전지파행 2020/08/15, 좌전지파행 2020/08/14, 운동기질환 기타 ...   \n",
       "1                  []  [정치 2017/08/12, 낭치 2017/08/12, 일본뇌염예방접종 2017/0...   \n",
       "2                  []  [정치 2019/04/03, 식이성 식욕부진 2016/09/04, 정치 2016/0...   \n",
       "3                  []  [운동기인성 피로회복 2019/12/20, 좌각막염 2019/12/14, 좌각막염 ...   \n",
       "4      [10,000천원(개별)]  [운동기질환 기타 2019/05/26, 운동기질환 기타 2019/05/25, 운동기...   \n",
       "...               ...                                                ...   \n",
       "1588    [2,500천원(개별)]  [산통 2023/05/14, 우전지파행 2022/08/18, 우전지파행 2022/0...   \n",
       "1589               []                                                 []   \n",
       "1590   [15,000천원(개별)]  [정치 2022/09/18, 우전지파행 2022/09/07, 우전지파행 2022/0...   \n",
       "1591    [6,000천원(개별)]  [감기 2023/06/02, 감기 2023/06/01, 감기 2022/12/09, ...   \n",
       "1592  [100,000천원(개별)]  [좌전지파행 2023/08/13, 좌전지파행 2023/08/12, 식이성 식욕부진 ...   \n",
       "\n",
       "             dad_record                                         dad_rate  \\\n",
       "0     [42전 (6/8/5/7/5)]     [단승 : 14.3%      복승 : 33.3%      연승 : 45.2%]   \n",
       "1      [2전 (2/0/0/0/0)]  [단승 : 100.0%      복승 : 100.0%      연승 : 100.0%]   \n",
       "2     [42전 (6/8/5/7/5)]     [단승 : 14.3%      복승 : 33.3%      연승 : 45.2%]   \n",
       "3                [None]                                           [None]   \n",
       "4                [None]                                           [None]   \n",
       "...                 ...                                              ...   \n",
       "1588             [None]                                           [None]   \n",
       "1589             [None]                                           [None]   \n",
       "1590  [42전 (6/8/5/7/5)]     [단승 : 14.3%      복승 : 33.3%      연승 : 45.2%]   \n",
       "1591  [30전 (4/0/8/4/2)]     [단승 : 13.3%      복승 : 13.3%      연승 : 40.0%]   \n",
       "1592             [None]                                           [None]   \n",
       "\n",
       "             mom_record                                      mom_rate  \n",
       "0      [0전 (0/0/0/0/0)]     [단승 : 0.0%      복승 : 0.0%      연승 : 0.0%]  \n",
       "1                [None]                                        [None]  \n",
       "2     [18전 (5/4/2/2/1)]  [단승 : 27.8%      복승 : 50.0%      연승 : 61.1%]  \n",
       "3                [None]                                        [None]  \n",
       "4     [33전 (1/1/1/5/2)]     [단승 : 3.0%      복승 : 6.1%      연승 : 9.1%]  \n",
       "...                 ...                                           ...  \n",
       "1588   [7전 (4/1/1/1/0)]  [단승 : 57.1%      복승 : 71.4%      연승 : 85.7%]  \n",
       "1589             [None]                                        [None]  \n",
       "1590  [34전 (8/5/6/2/1)]  [단승 : 23.5%      복승 : 38.2%      연승 : 55.9%]  \n",
       "1591  [20전 (3/0/5/4/3)]  [단승 : 15.0%      복승 : 15.0%      연승 : 40.0%]  \n",
       "1592  [24전 (5/5/3/2/1)]  [단승 : 20.8%      복승 : 41.7%      연승 : 54.2%]  \n",
       "\n",
       "[1593 rows x 6 columns]"
      ]
     },
     "execution_count": 82,
     "metadata": {},
     "output_type": "execute_result"
    }
   ],
   "source": [
    "data = {\n",
    "    'ini_price' :buy,\n",
    "    'sicks' : sicks,\n",
    "    'ranks' : ranks,\n",
    "    'horse_items' : horse_items,\n",
    "    'dad_record' : dad_record,\n",
    "    'dad_rate' : dad_rate,\n",
    "    'mom_record' : mom_record,\n",
    "    'mom_rate' : mom_rate\n",
    "}\n",
    "pd.DataFrame(data)"
   ]
  },
  {
   "cell_type": "code",
   "execution_count": 1,
   "metadata": {},
   "outputs": [
    {
     "ename": "NameError",
     "evalue": "name 'ranks' is not defined",
     "output_type": "error",
     "traceback": [
      "\u001b[0;31m---------------------------------------------------------------------------\u001b[0m",
      "\u001b[0;31mNameError\u001b[0m                                 Traceback (most recent call last)",
      "\u001b[1;32m/Users/ichang-ug/Documents/GitHub/HorceRacingPrediction2023/Changwook/WebScraping.ipynb 셀 9\u001b[0m line \u001b[0;36m1\n\u001b[0;32m----> <a href='vscode-notebook-cell:/Users/ichang-ug/Documents/GitHub/HorceRacingPrediction2023/Changwook/WebScraping.ipynb#X15sZmlsZQ%3D%3D?line=0'>1</a>\u001b[0m ranks\n",
      "\u001b[0;31mNameError\u001b[0m: name 'ranks' is not defined"
     ]
    }
   ],
   "source": [
    "ranks"
   ]
  },
  {
   "cell_type": "code",
   "execution_count": null,
   "metadata": {},
   "outputs": [],
   "source": []
  }
 ],
 "metadata": {
  "kernelspec": {
   "display_name": "Python 3",
   "language": "python",
   "name": "python3"
  },
  "language_info": {
   "codemirror_mode": {
    "name": "ipython",
    "version": 3
   },
   "file_extension": ".py",
   "mimetype": "text/x-python",
   "name": "python",
   "nbconvert_exporter": "python",
   "pygments_lexer": "ipython3",
   "version": "3.10.4"
  },
  "orig_nbformat": 4
 },
 "nbformat": 4,
 "nbformat_minor": 2
}
