{
 "cells": [
  {
   "cell_type": "code",
   "execution_count": 1,
   "metadata": {},
   "outputs": [],
   "source": [
    "import pandas as pd\n",
    "import numpy as np\n",
    "\n",
    "\n"
   ]
  },
  {
   "cell_type": "code",
   "execution_count": 65,
   "metadata": {},
   "outputs": [
    {
     "data": {
      "text/plain": [
       "array(['공덕', '대구 태전휴먼시아 ', '동작 본동 SH빌', '동작 상도 SH빌', '동탄2LH4',\n",
       "       '마포 상암월드컵파크', '송파 위례포레샤인', '오산', '화성 향남휴먼시아'], dtype=object)"
      ]
     },
     "execution_count": 65,
     "metadata": {},
     "output_type": "execute_result"
    }
   ],
   "source": [
    "elec=pd.read_csv(\"C:/Users/wjswp/Documents/카카오톡 받은 파일/elec_data_processed.csv\")\n",
    "a1=pd.read_csv(\"C:/Users/wjswp/Downloads/ttsgan_timeseries_duckd.csv\")\n",
    "a7=pd.read_csv(\"C:/Users/wjswp/Downloads/ttsgan_timeseries_대구 태전휴먼시아 .csv\")\n",
    "a5=pd.read_csv(\"C:/Users/wjswp/Downloads/ttsgan_timeseries_동작 본동 SH빌.csv\")\n",
    "a9=pd.read_csv(\"C:/Users/wjswp/Downloads/ttsgan_timeseries_동작 상도 SH빌.csv\")\n",
    "a3=pd.read_csv(\"C:/Users/wjswp/Downloads/ttsgan_timeseries_동탄2LH4.csv\")\n",
    "a8=pd.read_csv(\"C:/Users/wjswp/Downloads/ttsgan_timeseries_마포 상암월드컵파크.csv\")\n",
    "a6=pd.read_csv(\"C:/Users/wjswp/Downloads/ttsgan_timeseries_송파 위례포레샤인.csv\")\n",
    "a2=pd.read_csv(\"C:/Users/wjswp/Downloads/ttsgan_timeseries_오산.csv\")\n",
    "a4=pd.read_csv(\"C:/Users/wjswp/Downloads/ttsgan_timeseries_화성 향남휴먼시아.csv\")\n",
    "#동탄 제대로 못잡음\n",
    "#오산 제대로 못잡음\n",
    "\n",
    "real_count=[184,1204,1836,1173,156,1976,1857,767,833]\n",
    "val=['Apartment','Customer']\n",
    "apart_name=np.unique(elec['Apartment'])\n",
    "apart_name"
   ]
  },
  {
   "cell_type": "code",
   "execution_count": 67,
   "metadata": {},
   "outputs": [],
   "source": [
    "import pandas as pd\n",
    "import numpy as np\n",
    "count=real_count\n",
    "#0~count[0]-1\n",
    "#count[0]~2*count[0]-1\n",
    "for i in range(50):\n",
    "  result = pd.concat([\n",
    "    a1[i * count[0] : (i + 1) * count[0]],\n",
    "    a2[i * count[1] : (i + 1) * count[1]],\n",
    "    a3[i * count[2] : (i + 1) * count[2]],\n",
    "    a4[i * count[3] : (i + 1) * count[3]],\n",
    "    a5[i * count[4] : (i + 1) * count[4]],\n",
    "    a6[i * count[5] : (i + 1) * count[5]],\n",
    "    a7[i * count[6] : (i + 1) * count[6]],\n",
    "    a8[i * count[7] : (i + 1) * count[7]],\n",
    "    a9[i * count[8] : (i + 1) * count[8]]\n",
    "  ],ignore_index=True)\n",
    "  result=pd.concat([elec[val],result],axis=1)\n",
    "  result.to_csv(f'c:/Users/wjswp/Downloads/ttsgan__/TTSGAN__synthetic_{i}.csv')\n",
    "  #result.to_csv(f'ttsGAN_synthetic_data_{i}.csv',index=False)\n",
    "  "
   ]
  },
  {
   "cell_type": "code",
   "execution_count": 49,
   "metadata": {},
   "outputs": [],
   "source": [
    "a1=elec[elec['Apartment']==apart_name[0]][:150]\n",
    "a2=elec[elec['Apartment']==apart_name[1]][:150]\n",
    "a3=elec[elec['Apartment']==apart_name[2]][:150]\n",
    "a4=elec[elec['Apartment']==apart_name[3]][:150]\n",
    "a5=elec[elec['Apartment']==apart_name[4]][:150]\n",
    "a6=elec[elec['Apartment']==apart_name[5]][:150]\n",
    "a7=elec[elec['Apartment']==apart_name[6]][:150]\n",
    "a8=elec[elec['Apartment']==apart_name[7]][:150]\n",
    "a9=elec[elec['Apartment']==apart_name[8]][:150]\n"
   ]
  },
  {
   "cell_type": "code",
   "execution_count": 53,
   "metadata": {},
   "outputs": [],
   "source": [
    "result=pd.concat([a1,a2,a3,a4,a5,a6,a7,a8,a9])\n",
    "result.to_csv(\"C:/Users/wjswp/Downloads/elec.csv\")"
   ]
  },
  {
   "cell_type": "code",
   "execution_count": 55,
   "metadata": {},
   "outputs": [
    {
     "name": "stdout",
     "output_type": "stream",
     "text": [
      "대구 태전휴먼시아 \n",
      "동작 본동 SH빌\n",
      "동작 상도 SH빌\n",
      "동탄2LH4\n",
      "마포 상암월드컵파크\n",
      "송파 위례포레샤인\n",
      "오산\n",
      "화성 향남휴먼시아\n"
     ]
    }
   ],
   "source": []
  }
 ],
 "metadata": {
  "kernelspec": {
   "display_name": "Python 3",
   "language": "python",
   "name": "python3"
  },
  "language_info": {
   "codemirror_mode": {
    "name": "ipython",
    "version": 3
   },
   "file_extension": ".py",
   "mimetype": "text/x-python",
   "name": "python",
   "nbconvert_exporter": "python",
   "pygments_lexer": "ipython3",
   "version": "3.10.4"
  }
 },
 "nbformat": 4,
 "nbformat_minor": 2
}
