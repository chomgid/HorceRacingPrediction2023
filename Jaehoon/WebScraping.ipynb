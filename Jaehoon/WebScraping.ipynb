{
 "cells": [
  {
   "cell_type": "code",
   "execution_count": 27,
   "metadata": {},
   "outputs": [],
   "source": [
    "import pandas as pd\n",
    "import numpy as np\n",
    "import requests\n",
    "from bs4 import BeautifulSoup\n",
    "import time\n",
    "import openpyxl\n",
    "from konlpy.tag import Okt\n",
    "from selenium import webdriver\n",
    "from selenium.webdriver.common.by import By\n",
    "#dr=webdriver.Chrome()"
   ]
  },
  {
   "cell_type": "code",
   "execution_count": 37,
   "metadata": {},
   "outputs": [
    {
     "data": {
      "text/plain": [
       "'무대바람'"
      ]
     },
     "execution_count": 37,
     "metadata": {},
     "output_type": "execute_result"
    }
   ],
   "source": [
    "horse_list=pd.read_csv(\"C:/Users/wjswp/Desktop/경주마데이터-날씨데이터/horse_list.csv\")\n",
    "horse_list=horse_list['0'].to_numpy()\n",
    "horse_list[0]\n"
   ]
  },
  {
   "cell_type": "code",
   "execution_count": 3,
   "metadata": {},
   "outputs": [],
   "source": [
    "url = \"https://race.kra.co.kr/racehorse/ProfileHorsenameKinds.do?Act=08&Sub=1&meet=2\"\n",
    "\n",
    "response = requests.get(url,headers={'User-agent':'Mozilla/5.0'})"
   ]
  },
  {
   "cell_type": "code",
   "execution_count": 112,
   "metadata": {},
   "outputs": [
    {
     "name": "stderr",
     "output_type": "stream",
     "text": [
      "C:\\Users\\wjswp\\AppData\\Local\\Temp\\ipykernel_33888\\3752153741.py:1: DeprecationWarning: executable_path has been deprecated, please pass in a Service object\n",
      "  driver = webdriver.Chrome(executable_path=\"C:/Users/wjswp/Desktop/chromedriver-win64/chromedriver-win64/chromedriver.exe\")\n"
     ]
    }
   ],
   "source": [
    "\n",
    "driver = webdriver.Chrome(executable_path=\"C:/Users/wjswp/Desktop/chromedriver-win64/chromedriver-win64/chromedriver.exe\")\n",
    "driver.get('https://race.kra.co.kr/racehorse/ProfileHorsenameKinds.do?Act=08&Sub=1&meet=2')\n",
    "rating=[]\n",
    "buy=[]\n",
    "sick=[]\n",
    "rank=[]\n",
    "item=[]\n",
    "parent=[]\n",
    "\n",
    "driver.find_element(By.ID,'searchHorseName').send_keys('최고대장')\n",
    "time.sleep(1)\n",
    "driver.find_element(By.CLASS_NAME,'btnType4.case').click()\n",
    "time.sleep(1)\n",
    "driver.find_element(By.XPATH,'//*[@id=\"contents\"]/div[2]/table/tbody/tr/td[2]/a').click()\n",
    "#레이팅, 최초도입가 텍스트 추출\n",
    "rating.append(driver.find_element(By.XPATH,'//*[@id=\"contents\"]/div[1]/table/tbody/tr[1]/td[2]').text)\n",
    "buy.append(driver.find_element(By.XPATH,'//*[@id=\"contents\"]/div[1]/table/tbody/tr[12]/td[1]').text)\n",
    "\n",
    "#진료사항 탭 들어간 이후 질병날짜(sick_date),질병사항(sick_name) 추출\n",
    "driver.find_element(By.XPATH,'//*[@id=\"contents\"]/ul/li[5]/a').click()\n",
    "buttons=driver.find_elements(By.XPATH,'//*[@id=\"contents\"]/p[2]/a')\n",
    "for button in buttons:\n",
    "    button.click()\n",
    "    hospitals=driver.find_elements(By.XPATH,'//*[@id=\"contents\"]/div[2]/table/tbody/tr/td[2]')\n",
    "    for i in range(1,len(hospitals)+1):\n",
    "        sick_date=driver.find_element(By.XPATH,f'//*[@id=\"contents\"]/div[2]/table/tbody/tr[{i}]/td[2]').text\n",
    "        sick_name=driver.find_element(By.XPATH,f'//*[@id=\"contents\"]/div[2]/table/tbody/tr[{i}]/td[4]').text\n",
    "        sick.append(sick_name+' '+sick_date)\n",
    "\n",
    "#등급변동 정보\n",
    "driver.find_element(By.XPATH,'//*[@id=\"contents\"]/ul/li[7]/a').click()\n",
    "\n",
    "rank_dates=driver.find_elements(By.XPATH,'//*[@id=\"contents\"]/div[2]/table/tbody/tr/td[3]')\n",
    "for i in range(1,len(rank_dates)+1):\n",
    "    rank_name=driver.find_element(By.XPATH,f'//*[@id=\"contents\"]/div[2]/table/tbody/tr[{i}]/td[3]').text\n",
    "    rank_date=driver.find_element(By.XPATH,f'//*[@id=\"contents\"]/div[2]/table/tbody/tr[{i}]/td[4]').text\n",
    "    rank.append(rank_name+' '+rank_date)\n",
    "\n",
    "\n",
    "#승인장구 정보\n",
    "driver.find_element(By.XPATH,'//*[@id=\"contents\"]/ul/li[12]/a').click()\n",
    "\n",
    "items=driver.find_elements(By.XPATH,'//*[@id=\"contents\"]/div[2]/table/tbody/tr/td[3]')\n",
    "for i in range(1,len(items)+1):\n",
    "    name=driver.find_element(By.XPATH,f'//*[@id=\"contents\"]/div[2]/table/tbody/tr[{i}]/td[1]').text\n",
    "    start_date=driver.find_element(By.XPATH,f'//*[@id=\"contents\"]/div[2]/table/tbody/tr[{i}]/td[2]').text\n",
    "    end_date=driver.find_element(By.XPATH,f'//*[@id=\"contents\"]/div[2]/table/tbody/tr[{i}]/td[3]').text\n",
    "    item.append(name+' '+start_date+'~'+end_date)\n",
    "\n",
    "#혈통정보\n",
    "driver.find_element(By.XPATH,'//*[@id=\"contents\"]/ul/li[11]/a').click()\n",
    "parent.append(driver.find_element(By.XPATH,'//*[@id=\"contents\"]/table[3]/tbody/tr/td[1]/a[2]').text)\n",
    "parent.append(driver.find_element(By.XPATH,'//*[@id=\"contents\"]/table[3]/tbody/tr/td[2]/a[2]').text)\n",
    "\n",
    "\n",
    "driver.quit()\n",
    "\n",
    "\n",
    "\n",
    "\n",
    "\n"
   ]
  },
  {
   "cell_type": "code",
   "execution_count": 111,
   "metadata": {},
   "outputs": [
    {
     "data": {
      "text/plain": [
       "['제2 2023/01/08 ~ 현재',\n",
       " '제3 2022/07/03 ~ 2023/01/07',\n",
       " '제4 2022/05/22 ~ 2022/07/02',\n",
       " '제5 2021/12/05 ~ 2022/05/21',\n",
       " '제6 2020/11/05 ~ 2021/12/04',\n",
       " '미 2020/08/19 ~ 2020/11/04']"
      ]
     },
     "execution_count": 111,
     "metadata": {},
     "output_type": "execute_result"
    }
   ],
   "source": [
    "rank"
   ]
  },
  {
   "cell_type": "code",
   "execution_count": null,
   "metadata": {},
   "outputs": [],
   "source": []
  }
 ],
 "metadata": {
  "kernelspec": {
   "display_name": "Python 3",
   "language": "python",
   "name": "python3"
  },
  "language_info": {
   "codemirror_mode": {
    "name": "ipython",
    "version": 3
   },
   "file_extension": ".py",
   "mimetype": "text/x-python",
   "name": "python",
   "nbconvert_exporter": "python",
   "pygments_lexer": "ipython3",
   "version": "3.10.4"
  },
  "orig_nbformat": 4
 },
 "nbformat": 4,
 "nbformat_minor": 2
}
