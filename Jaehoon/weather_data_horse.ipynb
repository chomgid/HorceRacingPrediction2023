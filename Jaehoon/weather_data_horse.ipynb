{
 "cells": [
  {
   "cell_type": "code",
   "execution_count": 5,
   "metadata": {},
   "outputs": [],
   "source": [
    "import numpy as np\n",
    "import pandas as pd\n",
    "path=\"C:/Users/wjswp/Desktop/horse_model/weather_data_horse/\""
   ]
  },
  {
   "cell_type": "code",
   "execution_count": 138,
   "metadata": {},
   "outputs": [],
   "source": [
    "weather19=pd.read_csv(path+'weather2019.csv',encoding='cp949')\n",
    "weather20=pd.read_csv(path+'weather2020.csv',encoding='cp949')\n",
    "weather21=pd.read_csv(path+'weather2021.csv',encoding='cp949')\n",
    "weather22=pd.read_csv(path+'weather2022.csv',encoding='cp949')\n",
    "weather23=pd.read_csv(path+'weather2023.csv',encoding='cp949')\n",
    "horse_data=pd.read_excel(\"C:/Users/wjswp/Desktop/horse_model/한국마사회_경주상세정보(제주_부경)_20230720.xlsx\")\n",
    "\n",
    "#날씨 데이터와 경주 데이터의 공통적인 날짜만을 추출하고 싶음\n",
    "#날씨 데이터의 경우\n",
    "#2019-01-01 01:00:00 과 같은 시간까지 포함되어있으며\n",
    "#경우 데이터의 경우\n",
    "#20190101 과 같이 시간 데이터는 포함이 안되어있음\n",
    "\n",
    "#날씨 데이터에서 년-월-일만을 '날짜'열에 넣어주었음\n",
    "#그 후 unique를 이용하여, 경주 데이터의 날짜만을 가져와\n",
    "#날씨 데이터에서 경주 날짜에 해당하는 날짜 만을 추출함\n",
    "horse_data.columns=horse_data.iloc[0]\n",
    "horse_data=horse_data[1:]\n",
    "horse_data=horse_data[horse_data['경마장']=='제주']\n",
    "horse_date=horse_data['경주일자'].unique()\n",
    "\n",
    "weather = pd.concat([weather19,weather20,weather21,weather22,weather23],axis=0)\n",
    "weather=weather[weather['지점명']=='제주']\n",
    "weather['날짜']=weather['일시'].dt.strftime('%Y%m%d').astype(str)\n",
    "\n",
    "\n",
    "weather.iloc[[index for index,date in enumerate(weather['날짜']) if date in horse_date],:]\n",
    "\n",
    "#해당 열 같은 경우 지면상태는 전부다 결측치이며, QC플래그는 필요없어서 제외\n",
    "del_col=['기온 QC플래그','강수량 QC플래그','풍속 QC플래그','풍향 QC플래그','습도 QC플래그','현지기압 QC플래그','해면기압 QC플래그','일조 QC플래그','일사 QC플래그','지면상태(지면상태코드)','지면온도 QC플래그']\n",
    "weather=weather.drop(del_col,axis=1)\n"
   ]
  },
  {
   "cell_type": "code",
   "execution_count": 197,
   "metadata": {},
   "outputs": [
    {
     "data": {
      "text/plain": [
       "0    2019-01-01\n",
       "0    2020-01-01\n",
       "0    2021-01-01\n",
       "0    2022-01-01\n",
       "0    2023-01-01\n",
       "Name: 날짜, dtype: object"
      ]
     },
     "execution_count": 197,
     "metadata": {},
     "output_type": "execute_result"
    }
   ],
   "source": []
  }
 ],
 "metadata": {
  "kernelspec": {
   "display_name": "Python 3",
   "language": "python",
   "name": "python3"
  },
  "language_info": {
   "codemirror_mode": {
    "name": "ipython",
    "version": 3
   },
   "file_extension": ".py",
   "mimetype": "text/x-python",
   "name": "python",
   "nbconvert_exporter": "python",
   "pygments_lexer": "ipython3",
   "version": "3.10.4"
  },
  "orig_nbformat": 4
 },
 "nbformat": 4,
 "nbformat_minor": 2
}
